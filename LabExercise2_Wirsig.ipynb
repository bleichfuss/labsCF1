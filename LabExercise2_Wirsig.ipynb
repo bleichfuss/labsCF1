{
  "nbformat": 4,
  "nbformat_minor": 0,
  "metadata": {
    "kernelspec": {
      "display_name": "Python 3",
      "language": "python",
      "name": "python3"
    },
    "language_info": {
      "codemirror_mode": {
        "name": "ipython",
        "version": 3
      },
      "file_extension": ".py",
      "mimetype": "text/x-python",
      "name": "python",
      "nbconvert_exporter": "python",
      "pygments_lexer": "ipython3",
      "version": "3.7.7"
    },
    "colab": {
      "name": "LabExercise2-students.ipynb",
      "provenance": [],
      "collapsed_sections": []
    }
  },
  "cells": [
    {
      "cell_type": "markdown",
      "metadata": {
        "id": "-VPnkivbfOV7"
      },
      "source": [
        "# Bergische Universität Wuppertal #\n",
        "\n",
        "**Fakultät Mathematik und Naturwissenschaften** \n",
        "\n",
        "**Angewandte Mathematik/Numerische Analysis**\n",
        "\n",
        "*Dr. L. Teng*\n",
        "\n",
        "*L. Kapllani, M.Sc.* \n",
        "\n",
        "*Summerterm 2021*\n"
      ]
    },
    {
      "cell_type": "markdown",
      "metadata": {
        "id": "OC2m8sMOfOV9"
      },
      "source": [
        "# Computational Finance I\n",
        "**Lab-Exercise No. 2**\n"
      ]
    },
    {
      "cell_type": "markdown",
      "metadata": {
        "id": "svaFX0aEfOV9"
      },
      "source": [
        "## Write your data"
      ]
    },
    {
      "cell_type": "code",
      "metadata": {
        "id": "H1yMnUy9j5To"
      },
      "source": [
        ""
      ],
      "execution_count": null,
      "outputs": []
    },
    {
      "cell_type": "code",
      "metadata": {
        "id": "ZA9JrH-4fOV9",
        "colab": {
          "base_uri": "https://localhost:8080/"
        },
        "outputId": "8611b636-ab47-4aaf-d0d8-c82dca331ea3"
      },
      "source": [
        "print(\"First Name: Dominik\")\n",
        "print(\"Sure Name: Wirsig\")\n",
        "print(\"Matriculation number: XXXXXXX\")\n",
        "print(\"Degree Type: Master\") # Bachelor or Master\n",
        "print(\"Degree Name: Master of Science in Computer Simulation in Science\") # E.g. Master of Science in Computer Simulation in Science"
      ],
      "execution_count": 1,
      "outputs": [
        {
          "output_type": "stream",
          "text": [
            "First Name: Dominik\n",
            "Sure Name: Wirsig\n",
            "Matriculation number: XXXXXXX\n",
            "Degree Type: Master\n",
            "Degree Name: Master of Science in Computer Simulation in Science\n"
          ],
          "name": "stdout"
        }
      ]
    },
    {
      "cell_type": "markdown",
      "metadata": {
        "id": "hPuGnzcQfOV-"
      },
      "source": [
        "# For the programming task write the corresponding Python codes that are asked in each section below."
      ]
    },
    {
      "cell_type": "markdown",
      "metadata": {
        "id": "kKmZhcxRfOV-"
      },
      "source": [
        "# P2: Implied volatility\n",
        "In the lecture we mentioned that the volatility of stock can not be directly observed.\n",
        "Given option prices observed in the market, the volatility can be computed using Black-Scholes formula.\n",
        "We will use the Newton-Raphson method to calculate the implied volatility."
      ]
    },
    {
      "cell_type": "markdown",
      "metadata": {
        "id": "Nk5ayG0MfOV-"
      },
      "source": [
        "## Import all necessary modules"
      ]
    },
    {
      "cell_type": "code",
      "metadata": {
        "id": "cIbY3yjjfOV_"
      },
      "source": [
        "from math import *\n",
        "import numpy as np\n",
        "import matplotlib.pyplot as plt\n",
        "import scipy.optimize as opt"
      ],
      "execution_count": 2,
      "outputs": []
    },
    {
      "cell_type": "markdown",
      "metadata": {
        "id": "OIkn13gTfOV_"
      },
      "source": [
        "# Start coding\n",
        "**Note:** \n",
        "* Add code where you find the comment \"# Add code here\"\n",
        "* Get the same output as it is presented in the Markdown text **Expected Output:**"
      ]
    },
    {
      "cell_type": "markdown",
      "metadata": {
        "id": "74maGLwIfOV_"
      },
      "source": [
        "## Define a function to calculate implied volatiliry using Newton-Raphson method"
      ]
    },
    {
      "cell_type": "code",
      "metadata": {
        "id": "q2boUqDXfOV_"
      },
      "source": [
        "def impvol(S, r, T, K, C_market, sigma_0, tol):\n",
        "\n",
        "    \"\"\"\n",
        "    Function that calculates implied volatility using Newton-Raphson method\n",
        "    \n",
        "        sigma(k+1) = sigma(k) - (C(sigma(k))- C_market)/k, \n",
        "    \n",
        "    where sigma0 is an initial guess of volatility\n",
        "\n",
        "    Input: \n",
        "          S       -> Stock price\n",
        "          r       -> Interest rate\n",
        "          T       -> Maturity\n",
        "          K       -> Strike price\n",
        "          C_market-> European option value (given)\n",
        "          sigma_0 -> initial guess of implied volatility\n",
        "          tol     -> tolerance for NR method\n",
        "\n",
        "    Output:\n",
        "         im_sigma -> Implied volatility\n",
        "    \"\"\"\n",
        "    \n",
        "    while True:\n",
        "      d1 = ( log(S/K) + (r+sigma_0*sigma_0/2.0)*T ) / ( sigma_0*sqrt(T) )\n",
        "      d2 = d1 - sigma_0*sqrt(T)\n",
        "      # BC-Formula for Call option\n",
        "      C = S*phi(d1) - K*np.exp(-r*T)*phi(d2)\n",
        "      Kappa = S  * sqrt(T)  * normal_pdf(d1)\n",
        "      im_sigma = sigma_0 - (C - C_market)/Kappa\n",
        "      if abs(im_sigma - sigma_0) < tol or abs(sigma_0 - C_market) < tol:\n",
        "        break\n",
        "      sigma_0 = im_sigma\n",
        "    return im_sigma\n",
        "\n",
        "def normal_pdf(x):\n",
        "  # probability density function for normal distribution\n",
        "  return np.exp(-.5*x**2) / (sqrt(2*np.pi))\n",
        "def phi(x):\n",
        "  # cumulative destribution function\n",
        "  return (1.0 + erf(x/sqrt(2.0))) / 2.0"
      ],
      "execution_count": 3,
      "outputs": []
    },
    {
      "cell_type": "markdown",
      "metadata": {
        "id": "BH-hXCFDfOWA"
      },
      "source": [
        "Let $S=129,\\,r=0,\\,T=30/360.$ Test your code using the given market prices of European calls in the following table.\n",
        "![title](table1.png)\n",
        "For the Newton-Raphson method, use a tolerance of $10^{-10}$."
      ]
    },
    {
      "cell_type": "markdown",
      "metadata": {
        "id": "5G0IQ2U6fOWA"
      },
      "source": [
        "## Input parameters"
      ]
    },
    {
      "cell_type": "code",
      "metadata": {
        "id": "ai9NBYHFfOWA"
      },
      "source": [
        "# Input parameters\n",
        "sigma_0 = 0.1\n",
        "K = [*range(124, 137, 1)]\n",
        "S0 = 129\n",
        "r = 0\n",
        "T = 30/360\n",
        "C_market = [6.03, 5.23, 4.49, 3.79, 3.14, 2.55, 2.02, 1.59, 1.26, 1.00, 0.81, 0.67, 0.55]\n",
        "tol = 1e-10"
      ],
      "execution_count": 4,
      "outputs": []
    },
    {
      "cell_type": "markdown",
      "metadata": {
        "id": "AeM7FQIFfOWA"
      },
      "source": [
        "## Test the code based on above data: plot the graph, what do you observe?"
      ]
    },
    {
      "cell_type": "code",
      "metadata": {
        "id": "Ccad9Q08fOWA",
        "colab": {
          "base_uri": "https://localhost:8080/",
          "height": 312
        },
        "outputId": "8eb508b3-8816-4b98-cd7d-1ac3bebcaf30"
      },
      "source": [
        "# Implement impvol function to calculate the implied volatility for each strike price and option price\n",
        "x = np.zeros(13)\n",
        "for i in range(0, 13):\n",
        "  x[i] = impvol(S0, r, T, K[i], C_market[i], sigma_0, tol)\n",
        "\n",
        "plt.plot(K, x)\n",
        "plt.title('Implied volatility for different strike price values')\n",
        "plt.xlabel('Strike price')\n",
        "plt.ylabel('Implied volatility')"
      ],
      "execution_count": 5,
      "outputs": [
        {
          "output_type": "execute_result",
          "data": {
            "text/plain": [
              "Text(0, 0.5, 'Implied volatility')"
            ]
          },
          "metadata": {
            "tags": []
          },
          "execution_count": 5
        },
        {
          "output_type": "display_data",
          "data": {
            "image/png": "[encoded data removed]",
            "text/plain": [
              "<Figure size 432x288 with 1 Axes>"
            ]
          },
          "metadata": {
            "tags": [],
            "needs_background": "light"
          }
        }
      ]
    },
    {
      "cell_type": "markdown",
      "metadata": {
        "id": "IB1I2OF2fOWA"
      },
      "source": [
        "**Expected Output:**\n",
        "![title](figure1.png)"
      ]
    },
    {
      "cell_type": "markdown",
      "metadata": {
        "id": "5KdhISajfOWB"
      },
      "source": [
        "### Will the implied volatilities using the corresponding market prices of European puts be same?"
      ]
    },
    {
      "cell_type": "code",
      "metadata": {
        "id": "_JBQ97TYfOWB",
        "colab": {
          "base_uri": "https://localhost:8080/"
        },
        "outputId": "7bab85b0-429e-4215-cd70-9557ac722129"
      },
      "source": [
        "# Answer with a print statement\n",
        "print('No, the implied volatilities using the corresponding market prices of European puts would not be the same. The Black-Scholes formula for the puts is different.')"
      ],
      "execution_count": 6,
      "outputs": [
        {
          "output_type": "stream",
          "text": [
            "No, the implied volatilities using the corresponding market prices of European puts would not be the same. The Black-Scholes formula for the puts is different.\n"
          ],
          "name": "stdout"
        }
      ]
    },
    {
      "cell_type": "markdown",
      "metadata": {
        "id": "AtuGfPh_fOWB"
      },
      "source": [
        "In the lecture we have seen that the Black-Scholes model can be extended by including a time-dependent volatility function. Given the volatility function\n",
        "$$ \\sigma(t) = \\sigma_0 \\exp(−at) + b(1−\\exp(−at)),$$ \n",
        "ﬁnd the optimal value of parameters $\\sigma_0, a, b$ by ﬁtting the prices of the extended BS-formula to the market prices given in the following table, where $S = 129, r = 0, K = 129$. For the ﬁtting you can use any optimization method, e.g., least squares.\n",
        "![title](table2.png)\n",
        "\n",
        "Plot a graph of the volatility function using the obtained optimal parameter values and compare it to the corresponding implied volatility for diﬀerent maturities."
      ]
    },
    {
      "cell_type": "markdown",
      "metadata": {
        "id": "GOhk_PQRfOWB"
      },
      "source": [
        "## New input"
      ]
    },
    {
      "cell_type": "code",
      "metadata": {
        "id": "ZjpFY-7nfOWB"
      },
      "source": [
        "# New input\n",
        "Time = [1/12, 1/4, 1/2, 1]\n",
        "Value = [2.55, 4.49, 6.70, 10.13]\n",
        "Price = 129\n",
        "Strike = 129\n",
        "Rate = 0\n",
        "Sigma_0 = 0.2\n",
        "Tol = 1e-10"
      ],
      "execution_count": 7,
      "outputs": []
    },
    {
      "cell_type": "markdown",
      "metadata": {
        "id": "yyRA_pk4fOWC"
      },
      "source": [
        "## Apply NR for the new input"
      ]
    },
    {
      "cell_type": "code",
      "metadata": {
        "id": "O2BhvTK2fOWC"
      },
      "source": [
        "x = np.zeros(4)\n",
        "for i in range(0, 4):\n",
        "  x[i] = impvol(Price, Rate, Time[i], Strike, Value[i], Sigma_0, Tol)"
      ],
      "execution_count": 8,
      "outputs": []
    },
    {
      "cell_type": "markdown",
      "metadata": {
        "id": "AwmUVVHHfOWC"
      },
      "source": [
        "## Define a function for our given time dependent volatility "
      ]
    },
    {
      "cell_type": "code",
      "metadata": {
        "id": "XHuKSoj3fOWC"
      },
      "source": [
        "def func(t, sigma_0, a, b):\n",
        "    \"\"\"\n",
        "    Function that creates the time dependent volatility function\n",
        "        sigma(t) = sigma_0 * exp(−a*t) + b*(1−exp(−a*t))\n",
        "    Input: \n",
        "          t       -> time\n",
        "          sigma_0 -> Parameter\n",
        "          a       -> Parameter\n",
        "          b       -> Parameter\n",
        "          \n",
        "    Output:\n",
        "         sigma(t) -> Time dependent volatility\n",
        "    \"\"\"\n",
        "    return sigma_0 * np.exp(-a*t) + b*(1-np.exp(-a*t))"
      ],
      "execution_count": 9,
      "outputs": []
    },
    {
      "cell_type": "markdown",
      "metadata": {
        "id": "NlS8zD-dfOWC"
      },
      "source": [
        "## Find optimal values using least squares method\n",
        "**Hint:`curve_fit()` function form scipy optimization library can be used**"
      ]
    },
    {
      "cell_type": "code",
      "metadata": {
        "id": "5frZ1PPEfOWC",
        "colab": {
          "base_uri": "https://localhost:8080/"
        },
        "outputId": "b8c1d861-ba98-449b-f280-4d87e9e84243"
      },
      "source": [
        "popt, pcov = opt.curve_fit(func, Time, x)\n",
        "print('sigma0 = %.6f a = %.6f b = %.6f' % tuple (popt))"
      ],
      "execution_count": 10,
      "outputs": [
        {
          "output_type": "stream",
          "text": [
            "sigma0 = 0.168393 a = 0.140050 b = 0.389583\n"
          ],
          "name": "stdout"
        }
      ]
    },
    {
      "cell_type": "markdown",
      "metadata": {
        "id": "gHOhOCFIfOWC"
      },
      "source": [
        "**Expected Output:**\n",
        "\n",
        "`sigma0 = 0.168393`\n",
        " `a = 0.140051`\n",
        " `b = 0.389581`\n",
        " "
      ]
    },
    {
      "cell_type": "markdown",
      "metadata": {
        "id": "JkexLPOGfOWD"
      },
      "source": [
        "## Plotting our estimated volatility function"
      ]
    },
    {
      "cell_type": "code",
      "metadata": {
        "id": "n77XnHmUfOWD",
        "colab": {
          "base_uri": "https://localhost:8080/",
          "height": 312
        },
        "outputId": "349b38ed-95d4-45c2-a8a7-5aec018bade7"
      },
      "source": [
        "sigma_t = np.zeros(4)\n",
        "for i in range(0, 4):\n",
        "  # Formula for our volatility function using optimal parameter values, where sigma_0 = popt[0], a = popt[1], b = popt[2]\n",
        "  sigma_t[i] = popt[0] * np.exp(-popt[1] * Time[i]) + popt[2]*(1-np.exp(-popt[1]*Time[i]))\n",
        "\n",
        "# plot the data points and our estimated volatility function\n",
        "plt.plot(Time, x , 'ro', label='Implied Volatility')\n",
        "plt.plot(Time, sigma_t, label='Fitted function')\n",
        "plt.legend()\n",
        "plt.title('Data and Fitted Curve')\n",
        "plt.xlabel('Time')\n",
        "plt.ylabel('Volatility')"
      ],
      "execution_count": 11,
      "outputs": [
        {
          "output_type": "execute_result",
          "data": {
            "text/plain": [
              "Text(0, 0.5, 'Volatility')"
            ]
          },
          "metadata": {
            "tags": []
          },
          "execution_count": 11
        },
        {
          "output_type": "display_data",
          "data": {
            "image/png": "[encoded data removed]",
            "text/plain": [
              "<Figure size 432x288 with 1 Axes>"
            ]
          },
          "metadata": {
            "tags": [],
            "needs_background": "light"
          }
        }
      ]
    },
    {
      "cell_type": "markdown",
      "metadata": {
        "id": "YKBmo5HbfOWD"
      },
      "source": [
        "**Expected Output:**\n",
        "![title](figure2.png)"
      ]
    },
    {
      "cell_type": "markdown",
      "metadata": {
        "id": "tNLjq2CwfOWD"
      },
      "source": [
        "**Return the solutions of the programming task $\\href{https://moodle.uni-wuppertal.de/mod/assign/view.php?id=774696}{{here}}$ until Wednesday, June 9. The assignment can be done in groups of 1-2 persons. The solution should be presented within the following 2 weeks via an online arranged ZOOM meeting with M.Sc. Lorenc Kapllani.**"
      ]
    },
    {
      "cell_type": "code",
      "metadata": {
        "id": "isychak6fOWD"
      },
      "source": [
        "# feel free to use this cell for additional tests"
      ],
      "execution_count": 12,
      "outputs": []
    },
    {
      "cell_type": "code",
      "metadata": {
        "id": "yDOzeMgefOWD"
      },
      "source": [
        "# feel free to use this cell for additional tests"
      ],
      "execution_count": 13,
      "outputs": []
    },
    {
      "cell_type": "code",
      "metadata": {
        "id": "X1Z5iU8QfOWD"
      },
      "source": [
        "# feel free to use this cell for additional tests"
      ],
      "execution_count": 14,
      "outputs": []
    },
    {
      "cell_type": "code",
      "metadata": {
        "id": "OG24aYlpfOWE"
      },
      "source": [
        ""
      ],
      "execution_count": 14,
      "outputs": []
    },
    {
      "cell_type": "code",
      "metadata": {
        "id": "Kdn6tTgbfOWE"
      },
      "source": [
        ""
      ],
      "execution_count": 14,
      "outputs": []
    }
  ]
}