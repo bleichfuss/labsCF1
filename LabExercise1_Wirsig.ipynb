{
  "nbformat": 4,
  "nbformat_minor": 0,
  "metadata": {
    "kernelspec": {
      "display_name": "Python 3",
      "language": "python",
      "name": "python3"
    },
    "language_info": {
      "codemirror_mode": {
        "name": "ipython",
        "version": 3
      },
      "file_extension": ".py",
      "mimetype": "text/x-python",
      "name": "python",
      "nbconvert_exporter": "python",
      "pygments_lexer": "ipython3",
      "version": "3.7.7"
    },
    "colab": {
      "name": "LabExercise1.ipynb",
      "provenance": [],
      "collapsed_sections": []
    }
  },
  "cells": [
    {
      "cell_type": "markdown",
      "metadata": {
        "id": "X_eTfzxrktM8"
      },
      "source": [
        "# Bergische Universität Wuppertal #\n",
        "\n",
        "**Fakultät Mathematik und Naturwissenschaften** \n",
        "\n",
        "**Angewandte Mathematik/Numerische Analysis**\n",
        "\n",
        "*Dr. L. Teng*\n",
        "\n",
        "*L. Kapllani, M.Sc.* \n",
        "\n",
        "*Summerterm 2021*\n"
      ]
    },
    {
      "cell_type": "markdown",
      "metadata": {
        "id": "rpY7GG2uktNU"
      },
      "source": [
        "# Computational Finance I\n",
        "**Lab-Exercise No. 1**\n"
      ]
    },
    {
      "cell_type": "markdown",
      "metadata": {
        "id": "GsLIXqOjktNV"
      },
      "source": [
        "# P1: Trinomial Tree\n",
        "In the lecture we mentioned that a binomial model can be generalized to a trinomial model. In a trinomial model we need to consider three stock price developments: in one period the price increases by a factor of $u$ with the probability $p_u$, descreases by a factor of $d$ with the probability $p_d$, or remains unchanged with the probability $1−p_u −p_d$. The trinomial model can be built in a similar way to the binomial model, e.g., by matching the expectation and the variance and using $ud = 1$ we obtain:\n",
        "    $$ u = e^{\\sigma\\sqrt{2\\Delta t}}, \\quad d = e^{-\\sigma\\sqrt{2\\Delta t}}, \\quad p_d = \\left( \\frac{ e^{\\sigma\\sqrt{\\frac{\\Delta t}{2}}} - e^{r\\frac{\\Delta t}{2}} }{e^{\\sigma\\sqrt{\\frac{\\Delta t}{2}}} - e^{-\\sigma\\sqrt{\\frac{\\Delta t}{2}}}} \\right)^2, \\quad \\quad p_u = \\left( \\frac{ e^{r\\frac{\\Delta t}{2}} - e^{-\\sigma\\sqrt{\\frac{\\Delta t}{2}}}}{e^{\\sigma\\sqrt{\\frac{\\Delta t}{2}}} - e^{-\\sigma\\sqrt{\\frac{\\Delta t}{2}}}} \\right)^2.$$\n",
        "\n",
        "For the programming task write the corresponding Python functions that are asked in each section below."
      ]
    },
    {
      "cell_type": "markdown",
      "metadata": {
        "id": "O12QjRUEktNX"
      },
      "source": [
        "**Return the solutions of the programming task $\\href{https://moodle.uni-wuppertal.de/mod/assign/view.php?id=762093}{{here}}$ until Friday, May 21. The assignment can be done in groups of 1-2 persons. The solution should be presented within the following 2 weeks via an online arranged ZOOM meeting with M.Sc. Lorenc Kapllani.**"
      ]
    },
    {
      "cell_type": "markdown",
      "metadata": {
        "id": "eqLz_5W1ktNY"
      },
      "source": [
        "## Write your data"
      ]
    },
    {
      "cell_type": "code",
      "metadata": {
        "colab": {
          "base_uri": "https://localhost:8080/"
        },
        "id": "DEEbtnjektNZ",
        "outputId": "e2283078-90b0-420d-9ffa-588a25f0f26d"
      },
      "source": [
        "print(\"First Name: Dominik\")\n",
        "print(\"Sure Name: Wirsig\")\n",
        "print(\"Matriculation number: 2020067\")\n",
        "print(\"E-mail: 2020067@uni-wuppertal.de\")\n",
        "print(\"Degree Type: Master\") # Bachelor or Master\n",
        "print(\"Degree Name: Master of Science in Computer Simulation in Science\") # E.g. Master of Science in Computer Simulation in Science"
      ],
      "execution_count": null,
      "outputs": [
        {
          "output_type": "stream",
          "text": [
            "First Name: Dominik\n",
            "Sure Name: Wirsig\n",
            "Matriculation number: 2020067\n",
            "E-mail: 2020067@uni-wuppertal.de\n",
            "Degree Type: Master\n",
            "Degree Name: Computer Simulation in Science\n"
          ],
          "name": "stdout"
        }
      ]
    },
    {
      "cell_type": "markdown",
      "metadata": {
        "id": "94wQXdAuktNd"
      },
      "source": [
        "## Import all necessary modules"
      ]
    },
    {
      "cell_type": "code",
      "metadata": {
        "id": "2xjlsxHBktNe"
      },
      "source": [
        "import math\n",
        "import numpy as np"
      ],
      "execution_count": null,
      "outputs": []
    },
    {
      "cell_type": "markdown",
      "metadata": {
        "id": "ROB02SIqktNf"
      },
      "source": [
        "## Test Parameters"
      ]
    },
    {
      "cell_type": "code",
      "metadata": {
        "id": "-7h00M2UktNg"
      },
      "source": [
        "# Input parameters\n",
        "sigma = 0.2\n",
        "K = 100\n",
        "S0 = 100\n",
        "N = 4\n",
        "r = 0.05\n",
        "T = 1\n",
        "d_t = T / N"
      ],
      "execution_count": null,
      "outputs": []
    },
    {
      "cell_type": "markdown",
      "metadata": {
        "id": "qIVFzqCWktNh"
      },
      "source": [
        "# Start coding\n",
        "**Note:** \n",
        "* Add code where you find the comment \"# Add code here\"\n",
        "* Get the same output as it is presented in the Markdown text **Expected Output:**"
      ]
    },
    {
      "cell_type": "markdown",
      "metadata": {
        "id": "R8fk1UrnktNh"
      },
      "source": [
        "## Define a function to calculate the up and down factors"
      ]
    },
    {
      "cell_type": "code",
      "metadata": {
        "id": "hrK_f2QLktNi"
      },
      "source": [
        "def calc_ud(sigma, d_t):\n",
        "    \"\"\"\n",
        "    Function that calculates the factors in the trinomial model\n",
        "\n",
        "    Input: sigma -> volatility \n",
        "            d_t  -> time step size\n",
        "\n",
        "    Output: u -> upward movement\n",
        "            d -> downward movement\n",
        "\n",
        "    \"\"\"\n",
        "    u = math.exp(sigma * math.sqrt(2 * d_t))\n",
        "    d = math.exp(-sigma * math.sqrt(2 * d_t))\n",
        "    return u, d"
      ],
      "execution_count": null,
      "outputs": []
    },
    {
      "cell_type": "code",
      "metadata": {
        "colab": {
          "base_uri": "https://localhost:8080/"
        },
        "id": "zyB1zlW1ktNj",
        "outputId": "cc23311d-1022-4346-829f-ebc4bf3a40c9"
      },
      "source": [
        "# Calculate upward and downward movements\n",
        "u, d = calc_ud(sigma, d_t)\n",
        "print('u = %.6f, d = %.6f' % (u, d))"
      ],
      "execution_count": null,
      "outputs": [
        {
          "output_type": "stream",
          "text": [
            "u = 1.151910, d = 0.868123\n"
          ],
          "name": "stdout"
        }
      ]
    },
    {
      "cell_type": "markdown",
      "metadata": {
        "id": "EOrE3pxqktNj"
      },
      "source": [
        "**Expected Output:**\n",
        "`u = 1.151910, d = 0.868123`"
      ]
    },
    {
      "cell_type": "markdown",
      "metadata": {
        "id": "oAnC0LfKktNk"
      },
      "source": [
        "## Define a function to calculate the probabilities in the trinomial model"
      ]
    },
    {
      "cell_type": "code",
      "metadata": {
        "id": "UyTwSzinktNk"
      },
      "source": [
        "def calc_prob(r, sigma, d_t):\n",
        "    \"\"\"\n",
        "    Function that calculates the probabilities in the trinomial model\n",
        "\n",
        "    Input: r     -> interest rate\n",
        "           sigma -> volatility\n",
        "           d_t   -> time step size\n",
        "\n",
        "    Output: p_u -> probability for upward movement\n",
        "            p_d -> probability for downward movement\n",
        "            p_m -> probability for no change\n",
        "\n",
        "    \"\"\"\n",
        "    p_u = ((math.exp(r*d_t/2) - math.exp(-sigma*math.sqrt(d_t/2))) / (math.exp(sigma*math.sqrt(d_t/2)) - math.exp(-sigma*math.sqrt(d_t/2)))) ** 2\n",
        "    p_d = ((math.exp(sigma*math.sqrt(d_t/2)) - math.exp(r*d_t/2)) / (math.exp(sigma*math.sqrt(d_t/2)) - math.exp(-sigma*math.sqrt(d_t/2)))) ** 2\n",
        "    p_m = 1 - p_u - p_d\n",
        "    return p_u, p_d, p_m"
      ],
      "execution_count": null,
      "outputs": []
    },
    {
      "cell_type": "code",
      "metadata": {
        "colab": {
          "base_uri": "https://localhost:8080/"
        },
        "id": "twPibS5-ktNl",
        "outputId": "506e43dc-213e-4c46-b8ac-1c914687f2a2"
      },
      "source": [
        "# Calculate probabilities\n",
        "p_u, p_d, p_m = calc_prob(r, sigma, d_t)\n",
        "print('p_u = %.6f, p_d = %.6f, p_m = %.6f' % (p_u, p_d, p_m))"
      ],
      "execution_count": null,
      "outputs": [
        {
          "output_type": "stream",
          "text": [
            "p_u = 0.277334, p_d = 0.224084, p_m = 0.498582\n"
          ],
          "name": "stdout"
        }
      ]
    },
    {
      "cell_type": "markdown",
      "metadata": {
        "id": "Pxr9DMlMktNm"
      },
      "source": [
        "**Expected Output:**\n",
        "`p_u = 0.277334, p_d = 0.224084, p_m = 0.498582`"
      ]
    },
    {
      "cell_type": "markdown",
      "metadata": {
        "id": "dgHtNB4wktNm"
      },
      "source": [
        "## Define a function to calculate the stock prices in the trinomial model"
      ]
    },
    {
      "cell_type": "code",
      "metadata": {
        "id": "Ndmr55YPktNn"
      },
      "source": [
        "def stock_price_trinom(S0, N, u, d):\n",
        "    \n",
        "    \"\"\"\n",
        "    Function that calculates the stock prices in the trinomial model\n",
        "    \n",
        "    Input: S0 -> Initial Stock Price\n",
        "           u  -> upward movement\n",
        "           d  -> downward movement\n",
        "           N  -> Number of time periods\n",
        "       \n",
        "    Output: S -> Upper triangular matrix of Stock prices with tirnomial model\n",
        "    \"\"\"\n",
        "    S = np.zeros((2*N + 1, N + 1))\n",
        "    for j in range(0, N + 1):\n",
        "      for i in range(0, 2*j + 1):\n",
        "        S[i,j] = S0 * (u ** (j-i)) # u=1/d => u^(-1)=d, u^(-2)=d^2,...\n",
        "    return S"
      ],
      "execution_count": null,
      "outputs": []
    },
    {
      "cell_type": "code",
      "metadata": {
        "colab": {
          "base_uri": "https://localhost:8080/"
        },
        "id": "3rHaK56GktNo",
        "outputId": "74aa28fd-5df0-4cf2-ceeb-9554d124d13d"
      },
      "source": [
        "# Calculate stock prices\n",
        "S = stock_price_trinom(S0, N, u, d)\n",
        "print(\"Stock Prices\")\n",
        "print(S)"
      ],
      "execution_count": null,
      "outputs": [
        {
          "output_type": "stream",
          "text": [
            "Stock Prices\n",
            "[[100.         115.19099102 132.68964411 152.84651603 176.06541655]\n",
            " [  0.         100.         115.19099102 132.68964411 152.84651603]\n",
            " [  0.          86.81234454 100.         115.19099102 132.68964411]\n",
            " [  0.           0.          86.81234454 100.         115.19099102]\n",
            " [  0.           0.          75.36383164  86.81234454 100.        ]\n",
            " [  0.           0.           0.          75.36383164  86.81234454]\n",
            " [  0.           0.           0.          65.42510919  75.36383164]\n",
            " [  0.           0.           0.           0.          65.42510919]\n",
            " [  0.           0.           0.           0.          56.7970712 ]]\n"
          ],
          "name": "stdout"
        }
      ]
    },
    {
      "cell_type": "markdown",
      "metadata": {
        "id": "4mnuHhv0ktNo"
      },
      "source": [
        "**Expected Output:**\n",
        "\n",
        "`Stock Prices`\n",
        "\n",
        "`[[100.         115.19099102 132.68964411 152.84651603 176.06541655]\n",
        " [  0.         100.         115.19099102 132.68964411 152.84651603]\n",
        " [  0.          86.81234454 100.         115.19099102 132.68964411]\n",
        " [  0.           0.          86.81234454 100.         115.19099102]\n",
        " [  0.           0.          75.36383164  86.81234454 100.        ]\n",
        " [  0.           0.           0.          75.36383164  86.81234454]\n",
        " [  0.           0.           0.          65.42510919  75.36383164]\n",
        " [  0.           0.           0.           0.          65.42510919]\n",
        " [  0.           0.           0.           0.          56.7970712 ]]`"
      ]
    },
    {
      "cell_type": "markdown",
      "metadata": {
        "id": "CwMQZa7WktNq"
      },
      "source": [
        "## Define a function to calculate the European option price using trinomial model"
      ]
    },
    {
      "cell_type": "code",
      "metadata": {
        "id": "hI8aVqiBktNr"
      },
      "source": [
        "def priceTriEuro(N, K, r, S, p_u, p_d, p_m, d_t):\n",
        "    \"\"\"\n",
        "    Function that calculates the European option price using trinomial model\n",
        "    \n",
        "    Input: N     -> Number of time periods\n",
        "           K     -> Strike price\n",
        "           r     -> Interst rate\n",
        "           S     -> Upper triangular matrix\n",
        "           p_u   -> probability for upward movement\n",
        "           p_d   -> probability for downward movement\n",
        "           p_m   -> probability for no change\n",
        "           d_t   -> time step size\n",
        "       \n",
        "    Output: C -> European Call option \n",
        "            P -> European Put option \n",
        "\n",
        "    \"\"\"\n",
        "    C = np.zeros((2*N + 1, N + 1))\n",
        "    P = np.zeros((2*N + 1, N + 1))\n",
        "\n",
        "    # last column payoff\n",
        "    for i in range(0, 2*N + 1):\n",
        "      C[i][N] = max(S[i][N] - K, 0)\n",
        "      P[i][N] = max(K - S[i][N], 0)\n",
        "\n",
        "    # Backward (value) iteration for options\n",
        "    for i in range(N-1, -1, -1):\n",
        "      for j in range(0,  i*2 + 1):\n",
        "          C[j][i] = math.exp(-r*d_t) * (p_u*C[j][i+1] + p_m*C[j+1][i+1] + p_d*C[j+2][i+1])\n",
        "          P[j][i] = math.exp(-r*d_t) * (p_u*P[j][i+1] + p_m*P[j+1][i+1] + p_d*P[j+2][i+1])\n",
        "    return C, P"
      ],
      "execution_count": null,
      "outputs": []
    },
    {
      "cell_type": "code",
      "metadata": {
        "id": "R4qpSV99ktNs",
        "colab": {
          "base_uri": "https://localhost:8080/"
        },
        "outputId": "b28f9ed3-3170-44f2-856b-fc4a2c35b59b"
      },
      "source": [
        "# Calculate European call and put values\n",
        "C, P = priceTriEuro(N, K, r, S, p_u, p_d, p_m, d_t)\n",
        "print('European Call')\n",
        "print(C)\n",
        "print('European Put')\n",
        "print(P)"
      ],
      "execution_count": null,
      "outputs": [
        {
          "output_type": "stream",
          "text": [
            "European Call\n",
            "[[10.20509942 20.0925775  35.15865291 54.08873598 76.06541655]\n",
            " [ 0.          8.49087322 18.30584772 33.93186407 52.84651603]\n",
            " [ 0.          2.35495086  6.54953395 16.43321097 32.68964411]\n",
            " [ 0.          0.          1.13955621  4.16064756 15.19099102]\n",
            " [ 0.          0.          0.          0.          0.        ]\n",
            " [ 0.          0.          0.          0.          0.        ]\n",
            " [ 0.          0.          0.          0.          0.        ]\n",
            " [ 0.          0.          0.          0.          0.        ]\n",
            " [ 0.          0.          0.          0.          0.        ]]\n",
            "European Put\n",
            "[[ 5.32804187  1.22102826  0.          0.          0.        ]\n",
            " [ 0.          4.810315    0.64584791  0.          0.        ]\n",
            " [ 0.         11.86204809  4.08052515  0.          0.        ]\n",
            " [ 0.          0.         11.85820287  2.91842761  0.        ]\n",
            " [ 0.          0.         22.16715956 11.94543551  0.        ]\n",
            " [ 0.          0.          0.         23.39394841 13.18765546]\n",
            " [ 0.          0.          0.         33.33267086 24.63616836]\n",
            " [ 0.          0.          0.          0.         34.57489081]\n",
            " [ 0.          0.          0.          0.         43.2029288 ]]\n"
          ],
          "name": "stdout"
        }
      ]
    },
    {
      "cell_type": "markdown",
      "metadata": {
        "id": "JaeADQ1uktNt"
      },
      "source": [
        "**Expected Output:**\n",
        "\n",
        "`European Call`\n",
        "\n",
        "`[[10.20509942 20.0925775  35.15865291 54.08873598 76.06541655]\n",
        " [ 0.          8.49087322 18.30584772 33.93186407 52.84651603]\n",
        " [ 0.          2.35495086  6.54953395 16.43321097 32.68964411]\n",
        " [ 0.          0.          1.13955621  4.16064756 15.19099102]\n",
        " [ 0.          0.          0.          0.          0.        ]\n",
        " [ 0.          0.          0.          0.          0.        ]\n",
        " [ 0.          0.          0.          0.          0.        ]\n",
        " [ 0.          0.          0.          0.          0.        ]\n",
        " [ 0.          0.          0.          0.          0.        ]]`\n",
        "\n",
        "`European Put`\n",
        "\n",
        "`[[ 5.32804187  1.22102826  0.          0.          0.        ]\n",
        " [ 0.          4.810315    0.64584791  0.          0.        ]\n",
        " [ 0.         11.86204809  4.08052515  0.          0.        ]\n",
        " [ 0.          0.         11.85820287  2.91842761  0.        ]\n",
        " [ 0.          0.         22.16715956 11.94543551  0.        ]\n",
        " [ 0.          0.          0.         23.39394841 13.18765546]\n",
        " [ 0.          0.          0.         33.33267086 24.63616836]\n",
        " [ 0.          0.          0.          0.         34.57489081]\n",
        " [ 0.          0.          0.          0.         43.2029288 ]]`"
      ]
    },
    {
      "cell_type": "markdown",
      "metadata": {
        "id": "EmpYjis4ktNv"
      },
      "source": [
        "## Define a function to calculate the American option price using trinomial model"
      ]
    },
    {
      "cell_type": "code",
      "metadata": {
        "id": "DLUtqvxWktNw"
      },
      "source": [
        "def priceTriAmer(N, K, r, S, p_u, p_d, p_m, d_t):\n",
        "    \"\"\"\n",
        "    Function that calculates the American option price using trinomial model\n",
        "    \n",
        "    Input: N     -> Number of time periods\n",
        "           K     -> Strike price\n",
        "           r     -> Interst rate\n",
        "           S     -> Upper triangular matrix\n",
        "           p_u   -> probability for upward movement\n",
        "           p_d   -> probability for downward movement\n",
        "           p_m   -> probability for no change\n",
        "           d_t   -> time step size\n",
        "       \n",
        "    Output: C -> American Call option \n",
        "            P -> American Put option \n",
        "\n",
        "    \"\"\"\n",
        "    C = np.zeros((2*N + 1, N + 1))\n",
        "    P = np.zeros((2*N + 1, N + 1))\n",
        "\n",
        "    # last column payoff\n",
        "    for i in range(0, 2*N + 1):\n",
        "      C[i][N] = max(S[i][N] - K, 0)\n",
        "      P[i][N] = max(K - S[i][N], 0)\n",
        "\n",
        "    # Backward (value) iteration for options\n",
        "    for i in range(N-1, -1, -1):\n",
        "      for j in range(0,  i*2 + 1):\n",
        "          C_temp = math.exp(-r*d_t) * (p_u*C[j][i+1] + p_m*C[j+1][i+1] + p_d*C[j+2][i+1])\n",
        "          C[j][i] = max(S[j][i] - K, C_temp)\n",
        "          P_temp = math.exp(-r*d_t) * (p_u*P[j][i+1] + p_m*P[j+1][i+1] + p_d*P[j+2][i+1])\n",
        "          P[j][i] = max(K - S[j][i], P_temp)\n",
        "    return C, P"
      ],
      "execution_count": null,
      "outputs": []
    },
    {
      "cell_type": "code",
      "metadata": {
        "id": "UDvBVInBktNx",
        "colab": {
          "base_uri": "https://localhost:8080/"
        },
        "outputId": "c880cacf-0e16-4915-9bcc-b8e3c7070957"
      },
      "source": [
        "# Calculate American call and put values\n",
        "C, P = priceTriAmer(N, K, r, S, p_u, p_d, p_m, d_t)\n",
        "print('American Call')\n",
        "print(C)\n",
        "print('American Put')\n",
        "print(P)"
      ],
      "execution_count": null,
      "outputs": [
        {
          "output_type": "stream",
          "text": [
            "American Call\n",
            "[[10.20509942 20.0925775  35.15865291 54.08873598 76.06541655]\n",
            " [ 0.          8.49087322 18.30584772 33.93186407 52.84651603]\n",
            " [ 0.          2.35495086  6.54953395 16.43321097 32.68964411]\n",
            " [ 0.          0.          1.13955621  4.16064756 15.19099102]\n",
            " [ 0.          0.          0.          0.          0.        ]\n",
            " [ 0.          0.          0.          0.          0.        ]\n",
            " [ 0.          0.          0.          0.          0.        ]\n",
            " [ 0.          0.          0.          0.          0.        ]\n",
            " [ 0.          0.          0.          0.          0.        ]]\n",
            "American Put\n",
            "[[ 5.84957502  1.28186433  0.          0.          0.        ]\n",
            " [ 0.          5.23988204  0.64584791  0.          0.        ]\n",
            " [ 0.         13.18765546  4.35542837  0.          0.        ]\n",
            " [ 0.          0.         13.18765546  2.91842761  0.        ]\n",
            " [ 0.          0.         24.63616836 13.18765546  0.        ]\n",
            " [ 0.          0.          0.         24.63616836 13.18765546]\n",
            " [ 0.          0.          0.         34.57489081 24.63616836]\n",
            " [ 0.          0.          0.          0.         34.57489081]\n",
            " [ 0.          0.          0.          0.         43.2029288 ]]\n"
          ],
          "name": "stdout"
        }
      ]
    },
    {
      "cell_type": "markdown",
      "metadata": {
        "id": "ygfIz2b-ktNx"
      },
      "source": [
        "**Expected Output:**\n",
        "\n",
        "`American Call`\n",
        "\n",
        "`[[10.20509942 20.0925775  35.15865291 54.08873598 76.06541655]\n",
        " [ 0.          8.49087322 18.30584772 33.93186407 52.84651603]\n",
        " [ 0.          2.35495086  6.54953395 16.43321097 32.68964411]\n",
        " [ 0.          0.          1.13955621  4.16064756 15.19099102]\n",
        " [ 0.          0.          0.          0.          0.        ]\n",
        " [ 0.          0.          0.          0.          0.        ]\n",
        " [ 0.          0.          0.          0.          0.        ]\n",
        " [ 0.          0.          0.          0.          0.        ]\n",
        " [ 0.          0.          0.          0.          0.        ]]`\n",
        "\n",
        "`American Put`\n",
        "\n",
        "`[[ 5.84957502  1.28186433  0.          0.          0.        ]\n",
        " [ 0.          5.23988204  0.64584791  0.          0.        ]\n",
        " [ 0.         13.18765546  4.35542837  0.          0.        ]\n",
        " [ 0.          0.         13.18765546  2.91842761  0.        ]\n",
        " [ 0.          0.         24.63616836 13.18765546  0.        ]\n",
        " [ 0.          0.          0.         24.63616836 13.18765546]\n",
        " [ 0.          0.          0.         34.57489081 24.63616836]\n",
        " [ 0.          0.          0.          0.         34.57489081]\n",
        " [ 0.          0.          0.          0.         43.2029288 ]]`"
      ]
    },
    {
      "cell_type": "markdown",
      "metadata": {
        "id": "K2-GMJzqktNy"
      },
      "source": [
        "## Comparing European and American option values calculated with Trinomial Model from the exact Solution"
      ]
    },
    {
      "cell_type": "code",
      "metadata": {
        "id": "XvfqtO0SktNz",
        "colab": {
          "base_uri": "https://localhost:8080/"
        },
        "outputId": "f4c12a67-84f1-49d1-f133-6aa794e3de9f"
      },
      "source": [
        "# Calculate European and American put values for different N and compare to exact solution\n",
        "# Exact Values\n",
        "E_P_ex = 5.5735\n",
        "A_P_ex = 6.0624\n",
        "N = [4, 16, 64, 256, 512, 1024]\n",
        "\n",
        "for i in N:\n",
        "  d_t = T / i\n",
        "  u, d = calc_ud(sigma, d_t)\n",
        "  p_u, p_d, p_m = calc_prob(r, sigma, d_t)\n",
        "  S = stock_price_trinom(S0, i, u, d)\n",
        "  C, E_P_app = priceTriEuro(i, K, r, S, p_u, p_d, p_m, d_t)\n",
        "\n",
        "  err_E_P = abs(E_P_ex - E_P_app[0][0])\n",
        "  print('N = %4.d, E_P_ex = %2.6f, E_P_app = %2.6f, err_E_P = %e' % (i, E_P_ex, E_P_app[0][0], err_E_P))\n",
        "\n",
        "print()\n",
        "\n",
        "for i in N:\n",
        "  d_t = T / i\n",
        "  u, d = calc_ud(sigma, d_t)\n",
        "  p_u, p_d, p_m = calc_prob(r, sigma, d_t)\n",
        "  S = stock_price_trinom(S0, i, u, d)\n",
        "  C, A_P_app = priceTriAmer(i, K, r, S, p_u, p_d, p_m, d_t)\n",
        "  \n",
        "  err_A_P = abs(A_P_ex - A_P_app[0][0])\n",
        "  print('N = %4.d, A_P_ex = %2.6f, A_P_app = %2.6f, err_A_P = %e' % (i, A_P_ex, A_P_app[0][0], err_A_P))"
      ],
      "execution_count": null,
      "outputs": [
        {
          "output_type": "stream",
          "text": [
            "N =    4, E_P_ex = 5.573500, E_P_app = 5.328042, err_E_P = 2.454581e-01\n",
            "N =   16, E_P_ex = 5.573500, E_P_app = 5.511288, err_E_P = 6.221195e-02\n",
            "N =   64, E_P_ex = 5.573500, E_P_app = 5.557919, err_E_P = 1.558139e-02\n",
            "N =  256, E_P_ex = 5.573500, E_P_app = 5.569621, err_E_P = 3.878723e-03\n",
            "N =  512, E_P_ex = 5.573500, E_P_app = 5.571573, err_E_P = 1.926589e-03\n",
            "N = 1024, E_P_ex = 5.573500, E_P_app = 5.572550, err_E_P = 9.503432e-04\n",
            "\n",
            "N =    4, A_P_ex = 6.062400, A_P_app = 5.849575, err_A_P = 2.128250e-01\n",
            "N =   16, A_P_ex = 6.062400, A_P_app = 6.031125, err_A_P = 3.127492e-02\n",
            "N =   64, A_P_ex = 6.062400, A_P_app = 6.077022, err_A_P = 1.462235e-02\n",
            "N =  256, A_P_ex = 6.062400, A_P_app = 6.087340, err_A_P = 2.493992e-02\n",
            "N =  512, A_P_ex = 6.062400, A_P_app = 6.088906, err_A_P = 2.650645e-02\n",
            "N = 1024, A_P_ex = 6.062400, A_P_app = 6.089652, err_A_P = 2.725172e-02\n"
          ],
          "name": "stdout"
        }
      ]
    },
    {
      "cell_type": "markdown",
      "metadata": {
        "id": "I9xPUMxTktNz"
      },
      "source": [
        "**Expected Output:**\n",
        "![title](trinom_tree.png)"
      ]
    },
    {
      "cell_type": "code",
      "metadata": {
        "id": "amrgH2zVktN0"
      },
      "source": [
        "# feel free to use this cell for additional tests"
      ],
      "execution_count": null,
      "outputs": []
    },
    {
      "cell_type": "code",
      "metadata": {
        "id": "h-nH6_fBktN0"
      },
      "source": [
        "# feel free to use this cell for additional tests"
      ],
      "execution_count": null,
      "outputs": []
    },
    {
      "cell_type": "code",
      "metadata": {
        "id": "OnSm5z57ktN1"
      },
      "source": [
        "# feel free to use this cell for additional tests"
      ],
      "execution_count": null,
      "outputs": []
    },
    {
      "cell_type": "code",
      "metadata": {
        "id": "1jQZH_PXktN1"
      },
      "source": [
        "# feel free to use this cell for additional tests"
      ],
      "execution_count": null,
      "outputs": []
    },
    {
      "cell_type": "code",
      "metadata": {
        "id": "uYhtDLtBktN2"
      },
      "source": [
        ""
      ],
      "execution_count": null,
      "outputs": []
    },
    {
      "cell_type": "code",
      "metadata": {
        "id": "yorztaKpktN2"
      },
      "source": [
        ""
      ],
      "execution_count": null,
      "outputs": []
    }
  ]
}